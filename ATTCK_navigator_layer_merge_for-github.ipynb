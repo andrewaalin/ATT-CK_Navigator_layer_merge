{
 "cells": [
  {
   "cell_type": "code",
   "execution_count": 2,
   "metadata": {},
   "outputs": [],
   "source": [
    "import json"
   ]
  },
  {
   "cell_type": "code",
   "execution_count": 3,
   "metadata": {},
   "outputs": [],
   "source": [
    "def merge_dict_techniques(main: dict, addition: dict):\n",
    "    result=main\n",
    "    result['name']=main['name'] + \",\" + addition['name']   \n",
    "    for technique_try in addition['techniques']:\n",
    "        match=0\n",
    "        for technique_main in result['techniques']:\n",
    "            if technique_try['techniqueID']==technique_main['techniqueID'] and technique_try['tactic']==technique_main['tactic']:\n",
    "                match=1\n",
    "                technique_main['score']=technique_main['score']+technique_try['score']\n",
    "                technique_main['comment']=technique_main['comment'] + \",\" + technique_try['comment']            \n",
    "        if match==0:\n",
    "            result['techniques'].append(technique_try)\n",
    "    return result\n"
   ]
  },
  {
   "cell_type": "code",
   "execution_count": 5,
   "metadata": {
    "collapsed": true
   },
   "outputs": [
    {
     "ename": "OSError",
     "evalue": "[Errno 22] Invalid argument: '<PATH_TO_ATT-CK_JSON_FIRST_FILE>'",
     "output_type": "error",
     "traceback": [
      "\u001b[1;31m---------------------------------------------------------------------------\u001b[0m",
      "\u001b[1;31mOSError\u001b[0m                                   Traceback (most recent call last)",
      "\u001b[1;32m<ipython-input-5-c8e744cb3ffc>\u001b[0m in \u001b[0;36m<module>\u001b[1;34m\u001b[0m\n\u001b[1;32m----> 1\u001b[1;33m \u001b[1;32mwith\u001b[0m \u001b[0mopen\u001b[0m\u001b[1;33m(\u001b[0m\u001b[1;34m'<PATH_TO_ATT-CK_JSON_FIRST_FILE>'\u001b[0m\u001b[1;33m)\u001b[0m \u001b[1;32mas\u001b[0m \u001b[0mf\u001b[0m\u001b[1;33m:\u001b[0m\u001b[1;33m\u001b[0m\u001b[1;33m\u001b[0m\u001b[0m\n\u001b[0m\u001b[0;32m      2\u001b[0m   \u001b[0mfile1_d\u001b[0m \u001b[1;33m=\u001b[0m \u001b[0mjson\u001b[0m\u001b[1;33m.\u001b[0m\u001b[0mload\u001b[0m\u001b[1;33m(\u001b[0m\u001b[0mf\u001b[0m\u001b[1;33m)\u001b[0m\u001b[1;33m\u001b[0m\u001b[1;33m\u001b[0m\u001b[0m\n\u001b[0;32m      3\u001b[0m \u001b[1;32mfor\u001b[0m \u001b[0mtechnique\u001b[0m \u001b[1;32min\u001b[0m \u001b[0mfile1_d\u001b[0m\u001b[1;33m[\u001b[0m\u001b[1;34m'techniques'\u001b[0m\u001b[1;33m]\u001b[0m\u001b[1;33m:\u001b[0m\u001b[1;33m\u001b[0m\u001b[1;33m\u001b[0m\u001b[0m\n\u001b[0;32m      4\u001b[0m     \u001b[0mtechnique\u001b[0m\u001b[1;33m[\u001b[0m\u001b[1;34m'comment'\u001b[0m\u001b[1;33m]\u001b[0m\u001b[1;33m=\u001b[0m\u001b[0mfile1_d\u001b[0m\u001b[1;33m[\u001b[0m\u001b[1;34m'name'\u001b[0m\u001b[1;33m]\u001b[0m\u001b[1;33m\u001b[0m\u001b[1;33m\u001b[0m\u001b[0m\n\u001b[0;32m      5\u001b[0m     \u001b[0mtechnique\u001b[0m\u001b[1;33m[\u001b[0m\u001b[1;34m'score'\u001b[0m\u001b[1;33m]\u001b[0m\u001b[1;33m=\u001b[0m\u001b[1;36m1\u001b[0m\u001b[1;33m\u001b[0m\u001b[1;33m\u001b[0m\u001b[0m\n",
      "\u001b[1;31mOSError\u001b[0m: [Errno 22] Invalid argument: '<PATH_TO_ATT-CK_JSON_FIRST_FILE>'"
     ]
    }
   ],
   "source": [
    "with open('<PATH_TO_ATT-CK_JSON_FIRST_FILE>') as f:\n",
    "  file1_d = json.load(f)\n",
    "for technique in file1_d['techniques']:\n",
    "    technique['comment']=file1_d['name']\n",
    "    technique['score']=1\n",
    "\n",
    "with open('<PATH_TO_ATT-CK_JSON_FIRST_FILE>') as f:\n",
    "  file2_d = json.load(f)\n",
    "for technique in file2_d['techniques']:\n",
    "    technique['comment']=file2_d['name']\n",
    "    technique['score']=1\n",
    "\n",
    "apt1_apt3_d=merge_dict_techniques(file1_d,file2_d)"
   ]
  },
  {
   "cell_type": "code",
   "execution_count": 174,
   "metadata": {},
   "outputs": [
    {
     "name": "stdout",
     "output_type": "stream",
     "text": [
      "<class 'dict'>\n"
     ]
    }
   ],
   "source": [
    "print(type(apt1_apt3_d))\n",
    "with open('apt1_apt3.json', 'w') as result_file:\n",
    "    json.dump(apt1_apt3_d, result_file)"
   ]
  },
  {
   "cell_type": "code",
   "execution_count": null,
   "metadata": {},
   "outputs": [],
   "source": []
  }
 ],
 "metadata": {
  "kernelspec": {
   "display_name": "Python 3",
   "language": "python",
   "name": "python3"
  },
  "language_info": {
   "codemirror_mode": {
    "name": "ipython",
    "version": 3
   },
   "file_extension": ".py",
   "mimetype": "text/x-python",
   "name": "python",
   "nbconvert_exporter": "python",
   "pygments_lexer": "ipython3",
   "version": "3.8.3"
  }
 },
 "nbformat": 4,
 "nbformat_minor": 4
}
